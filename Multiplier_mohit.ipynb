{
 "cells": [
  {
   "cell_type": "markdown",
   "id": "fedb942d",
   "metadata": {},
   "source": [
    "## Constructing a quantum adder and quantum multiplier Circuit \n",
    "\n",
    "Sources: [1]  Quantum arithmetic with the Quantum Fourier Transform - https://arxiv.org/pdf/1411.5949.pdf <br>\n",
    "  &emsp;&emsp;&emsp;&emsp; [2] Addition on a Quantum Computer - https://arxiv.org/pdf/quant-ph/0008033.pdf <br>\n",
    "  &emsp;&emsp;&emsp;&emsp; [3] IBM Qiskit - https://qiskit.org/textbook/preface.html <br>\n",
    "  &emsp;&emsp;&emsp;&emsp; [4] M. A. Nielsen and I. L. Chuang, Quantum Computation and Quantum Information: 10th Anniversary\n",
    "Edition. Cambridge University Press, 2010."
   ]
  },
  {
   "cell_type": "code",
   "execution_count": 34,
   "id": "a3be0278",
   "metadata": {},
   "outputs": [],
   "source": [
    "# Importing Libraries\n",
    "\n",
    "from qiskit import QuantumCircuit, QuantumRegister, ClassicalRegister, execute, Aer, IBMQ\n",
    "from qiskit.compiler import transpile, assemble\n",
    "from qiskit.tools.jupyter import *\n",
    "from qiskit.visualization import *\n",
    "import math\n",
    "import numpy as np\n",
    "import time"
   ]
  },
  {
   "cell_type": "code",
   "execution_count": 3,
   "id": "7bbd19ea",
   "metadata": {},
   "outputs": [],
   "source": [
    "# Defining some necessary function\n",
    "\n",
    "def to_binary(n):           # converts upto 9-bit binary, intentionally kept 9 bits so we could include big numbers\n",
    "    return format(n,'09b')\n",
    "\n",
    "# Initializing qubits according to binary representation of number,\n",
    "# m is from where it has to start to put binary representation in qubits\n",
    "def initializing_qubits(qc,binary_n,m):\n",
    "    if m<len(binary_n):\n",
    "        for j in range(m,m+len(binary_n)):\n",
    "            if binary_n[j-m] == '1':  # Applies an NOT gate for bit where the binary representation has 1\n",
    "                qc.x(j)\n",
    "    else:\n",
    "        for j in range(m,m+len(binary_n)):\n",
    "            if binary_n[j-len(binary_n)-m] == '1': # Applies an NOT gate for bit where the binary representation has 1\n",
    "                qc.x(j)\n",
    "    return qc\n",
    "\n",
    "# Quantum Fourier Transform \n",
    "def qft(qc,n):            # Applies Quantum Fourier transform on given circuit provided to first n-qubits\n",
    "    for i in range(n):\n",
    "        qc.h(i)\n",
    "        for j in range(i+1,n):\n",
    "            qc.cp(np.pi/(2**(j-i)),j,i)\n",
    "    for i in range(n//2):\n",
    "        qc.swap(i, n-i-1)\n",
    "    return qc\n",
    "\n",
    "\n",
    "# Inverse Quantum Fourier Transform \n",
    "def iqft(qc,n):             # Applies Inverse Quantum Fourier transform on  given circuit provided to first n-qubits\n",
    "    for i in range(n):\n",
    "        qc.h(i)\n",
    "        for j in range(i+1,n):\n",
    "            qc.cp(-np.pi/(2**(j-i)),j,i)\n",
    "    for i in range(n//2):\n",
    "        qc.swap(i, n-i-1)\n",
    "    return qc  \n"
   ]
  },
  {
   "cell_type": "code",
   "execution_count": 61,
   "id": "8c256e1e",
   "metadata": {},
   "outputs": [
    {
     "name": "stdout",
     "output_type": "stream",
     "text": [
      "n1 = 3\n",
      "n2 = 60\n",
      "n1+n2 = 63\n",
      "depth of the adder circuit = 59\n",
      "Time for execution of the adder circuit = 0.15 seconds\n"
     ]
    }
   ],
   "source": [
    "#-----------------------------------------------------Adder---------------------------------------------------------#\n",
    "\n",
    "# The numbers to be added should be of same number of bits, we are using upto 9 bits but it could easily be changed\n",
    "# to include even bigger numbers by changing just a number in '09b' to for ex. '08b' in to_binary function\n",
    "\n",
    "def adder(n1,n2):\n",
    "    \n",
    "    binary_n1 = to_binary(n1)  # Converting to binary\n",
    "    #binary_n1 = binary_n1[::-1]\n",
    "\n",
    "    binary_n2 = to_binary(n2)  # Converting to binary\n",
    "    #binary_n2 = binary_n2[::-1]\n",
    "\n",
    "    qc = QuantumCircuit(len(binary_n1)+len(binary_n2)+1,len(binary_n1)+1)        \n",
    "\n",
    "    # Putting binary representation of numbers given in qubits\n",
    "    qc = initializing_qubits(qc,binary_n1,1) \n",
    "    qc = initializing_qubits(qc,binary_n2,len(binary_n1)+1)\n",
    "\n",
    "    qc = qft(qc,len(binary_n1)+1) # Taking QFT of n1+1 qubits because sum of two 4-bit number might be a 5-bit number\n",
    "\n",
    "\n",
    "    # These are the rotations required which moves the qubits for QFT of first number n1 in such a way that \n",
    "    # the rotations on bloch sphere are at angle where if we take inverse QFT we get (n1+n2)\n",
    "#-------------------------------------------------Starts here-------------------------------------------------------#\n",
    "  \n",
    "    for i in range(len(binary_n1)+1,len(binary_n1)+len(binary_n2)+1):\n",
    "        qc.cp(np.pi/2**(i-len(binary_n1)),i,len(binary_n1))\n",
    "    \n",
    "    for j in range(1,len(binary_n2)+1):\n",
    "        for i in range(len(binary_n1)+j,len(binary_n1)+len(binary_n2)+1):\n",
    "            qc.cp(np.pi/2**(i-len(binary_n1)-j),i,len(binary_n1)-j)\n",
    "        \n",
    "#-------------------------------------------------Ends here---------------------------------------------------------#\n",
    "\n",
    "    qc = iqft(qc,len(binary_n1)+1)            #Taking inverse QFT\n",
    "\n",
    "    for i in range(len(binary_n1)+1):         # Measuring the qubits where the answer gets stored\n",
    "        qc.measure(i,i)\n",
    "    \n",
    "    #qc.draw('mpl')\n",
    "    \n",
    "    sim = Aer.get_backend('aer_simulator')\n",
    "    counts = sim.run(assemble(qc)).result().get_counts()\n",
    "    #plot_histogram(counts)\n",
    "    #print(counts)\n",
    "    \n",
    "    # Now we need to convert the answer which is in binary back to decimal\n",
    "    ans = []\n",
    "    for i in reversed(range(2,len(binary_n1)+3)):\n",
    "        ans.append(format(counts)[i])\n",
    "    \n",
    "    ans = ''.join(ans)\n",
    "    ans = int(ans,2)\n",
    "    depth = qc.depth()\n",
    "    \n",
    "    return ans,depth\n",
    "\n",
    "n1 = 3\n",
    "n2 = 60\n",
    "print(\"n1 =\",n1)\n",
    "print(\"n2 =\",n2)\n",
    "start = time.time()\n",
    "print(\"n1+n2 =\",adder(n1,n2)[0])\n",
    "end = time.time()\n",
    "print(\"depth of the adder circuit =\",adder(n1,n2)[1]) # depth could be decreased by taking less number of qubits       \n",
    "print(f\"Time for execution of the adder circuit = {(end-start):.2f} seconds\")"
   ]
  },
  {
   "cell_type": "code",
   "execution_count": 63,
   "id": "da27a6a8",
   "metadata": {},
   "outputs": [
    {
     "name": "stdout",
     "output_type": "stream",
     "text": [
      "n1 = 6\n",
      "n2 = 5\n",
      "n1*n2 = 30\n",
      "depth of the multiplier circuit for given numbers = 295\n",
      "Time for execution of the Multiplier circuit = 1.25 seconds\n"
     ]
    }
   ],
   "source": [
    "#---------------------------------------------- Multiplier ---------------------------------------------------------#\n",
    "\n",
    "# What we are doing here is repeating n1+n1, (n2-1) times if we have n1*n2\n",
    "\n",
    "def multiplier(n1,n2):\n",
    "    ans = 0\n",
    "    depth = 0\n",
    "    if n1>n2:\n",
    "        n1,n2 = n2,n1          # this is so that adder is used the number of times we have smaller number\n",
    "    for i in range(n1):\n",
    "        ans = adder(ans,n2)[0]\n",
    "        depth = depth + adder(ans,n2)[1]\n",
    "    return ans,depth\n",
    "\n",
    "n1 = 6\n",
    "n2 = 5\n",
    "print(\"n1 =\",n1)\n",
    "print(\"n2 =\",n2)\n",
    "start = time.time()\n",
    "print(\"n1*n2 =\",multiplier(n1,n2)[0]) \n",
    "end = time.time()\n",
    "print(\"depth of the multiplier circuit for given numbers =\",multiplier(n1,n2)[1])  # The variation here is due to how many times the loop runs\n",
    "print(f\"Time for execution of the Multiplier circuit = {(end-start):.2f} seconds\")"
   ]
  },
  {
   "cell_type": "code",
   "execution_count": null,
   "id": "b5e032fd",
   "metadata": {},
   "outputs": [],
   "source": []
  }
 ],
 "metadata": {
  "kernelspec": {
   "display_name": "Python 3 (ipykernel)",
   "language": "python",
   "name": "python3"
  },
  "language_info": {
   "codemirror_mode": {
    "name": "ipython",
    "version": 3
   },
   "file_extension": ".py",
   "mimetype": "text/x-python",
   "name": "python",
   "nbconvert_exporter": "python",
   "pygments_lexer": "ipython3",
   "version": "3.6.9"
  },
  "vscode": {
   "interpreter": {
    "hash": "31f2aee4e71d21fbe5cf8b01ff0e069b9275f58929596ceb00d14d90e3e16cd6"
   }
  }
 },
 "nbformat": 4,
 "nbformat_minor": 5
}
